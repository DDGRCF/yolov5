{
 "metadata": {
  "language_info": {
   "codemirror_mode": {
    "name": "ipython",
    "version": 3
   },
   "file_extension": ".py",
   "mimetype": "text/x-python",
   "name": "python",
   "nbconvert_exporter": "python",
   "pygments_lexer": "ipython3",
   "version": "3.7.10"
  },
  "orig_nbformat": 4,
  "kernelspec": {
   "name": "python3",
   "display_name": "Python 3.7.10 64-bit ('open-mmlab': conda)"
  },
  "interpreter": {
   "hash": "cdcec47eebc4c594d9d390e0eca6bef749f56c817aa5229fc9d8a71e82eb1cf3"
  }
 },
 "nbformat": 4,
 "nbformat_minor": 2,
 "cells": [
  {
   "cell_type": "code",
   "execution_count": 2,
   "source": [
    "import torch\n",
    "import torch.nn as nn\n",
    "\n",
    "a = nn.Sequential(nn.Conv2d(3, 4, 1))\n",
    "b = nn.Sequential(nn.Conv2d(3, 5, 1))\n",
    "for m in [a.modules(), b.modules()]:\n",
    "    print(type(m))"
   ],
   "outputs": [
    {
     "output_type": "stream",
     "name": "stdout",
     "text": [
      "<class 'generator'>\n",
      "<class 'generator'>\n"
     ]
    }
   ],
   "metadata": {}
  },
  {
   "cell_type": "code",
   "execution_count": 3,
   "source": [
    "a = {'a':1, 'b':2}\n",
    "list(a)"
   ],
   "outputs": [
    {
     "output_type": "execute_result",
     "data": {
      "text/plain": [
       "['a', 'b']"
      ]
     },
     "metadata": {},
     "execution_count": 3
    }
   ],
   "metadata": {}
  },
  {
   "cell_type": "code",
   "execution_count": 4,
   "source": [
    "from pathlib import Path\n",
    "p = Path('/home/rcf')\n",
    "print(p)"
   ],
   "outputs": [
    {
     "output_type": "stream",
     "name": "stdout",
     "text": [
      "/home/rcf\n"
     ]
    }
   ],
   "metadata": {}
  },
  {
   "cell_type": "code",
   "execution_count": 10,
   "source": [
    "import torch\n",
    "import torch.nn as nn\n",
    "from copy import deepcopy\n",
    "model = nn.Sequential(nn.Conv2d(3, 5, 3), \n",
    "                      nn.BatchNorm2d(5))\n",
    "model_new = deepcopy(model)\n",
    "\n",
    "\n",
    "\n",
    "for i, (n, p) in enumerate(model.named_parameters()):\n",
    "    print(n, p.shape)\n",
    "print('###############33')\n",
    "for i, (n, p) in enumerate(model.state_dict().items()):\n",
    "    print(n, p.shape)"
   ],
   "outputs": [
    {
     "output_type": "stream",
     "name": "stdout",
     "text": [
      "0.weight torch.Size([5, 3, 3, 3])\n",
      "0.bias torch.Size([5])\n",
      "1.weight torch.Size([5])\n",
      "1.bias torch.Size([5])\n",
      "###############33\n",
      "0.weight torch.Size([5, 3, 3, 3])\n",
      "0.bias torch.Size([5])\n",
      "1.weight torch.Size([5])\n",
      "1.bias torch.Size([5])\n",
      "1.running_mean torch.Size([5])\n",
      "1.running_var torch.Size([5])\n",
      "1.num_batches_tracked torch.Size([])\n"
     ]
    }
   ],
   "metadata": {}
  },
  {
   "cell_type": "code",
   "execution_count": 14,
   "source": [
    "import torch\n",
    "\n",
    "a = torch.tensor([0, 1, 2])\n",
    "b = torch.tensor([2, 3, 4])\n",
    "torch.cat((a, b))\n"
   ],
   "outputs": [
    {
     "output_type": "execute_result",
     "data": {
      "text/plain": [
       "tensor([0, 1, 2, 2, 3, 4])"
      ]
     },
     "metadata": {},
     "execution_count": 14
    }
   ],
   "metadata": {}
  },
  {
   "cell_type": "code",
   "execution_count": 7,
   "source": [
    "import torch\n",
    "import torch.nn as nn\n",
    "\n",
    "a = torch.tensor([[0, 0, 0], [1, 1, 1], [2, 2, 2]], dtype=torch.float32, requires_grad=True)\n",
    "b = torch.tensor([[1, 1, 1], [2, 2, 2]], dtype=torch.float32, requires_grad=True)\n",
    "b = a[0: 2] + b ** 2\n",
    "d = b.mean()\n",
    "d.backward()"
   ],
   "outputs": [],
   "metadata": {}
  }
 ]
}