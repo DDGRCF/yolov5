{
 "metadata": {
  "language_info": {
   "codemirror_mode": {
    "name": "ipython",
    "version": 3
   },
   "file_extension": ".py",
   "mimetype": "text/x-python",
   "name": "python",
   "nbconvert_exporter": "python",
   "pygments_lexer": "ipython3",
   "version": "3.7.10"
  },
  "orig_nbformat": 4,
  "kernelspec": {
   "name": "python3",
   "display_name": "Python 3.7.10 64-bit ('open-mmlab': conda)"
  },
  "interpreter": {
   "hash": "cdcec47eebc4c594d9d390e0eca6bef749f56c817aa5229fc9d8a71e82eb1cf3"
  }
 },
 "nbformat": 4,
 "nbformat_minor": 2,
 "cells": [
  {
   "cell_type": "code",
   "execution_count": 2,
   "source": [
    "import torch\n",
    "import torch.nn as nn\n",
    "\n",
    "a = torch.randn(10)\n",
    "# a.view(-1)\n",
    "print(a, a.view(-1))"
   ],
   "outputs": [
    {
     "output_type": "execute_result",
     "data": {
      "text/plain": [
       "tensor([ 0.0966, -0.6841,  0.4711,  0.9043, -1.0118,  1.4150, -0.4599,  0.1538,\n",
       "        -0.9123,  0.9685])"
      ]
     },
     "metadata": {},
     "execution_count": 2
    }
   ],
   "metadata": {}
  },
  {
   "cell_type": "code",
   "execution_count": 3,
   "source": [
    "128 * 0.8"
   ],
   "outputs": [
    {
     "output_type": "execute_result",
     "data": {
      "text/plain": [
       "76.8"
      ]
     },
     "metadata": {},
     "execution_count": 3
    }
   ],
   "metadata": {}
  },
  {
   "cell_type": "code",
   "execution_count": 3,
   "source": [
    "a = {'a':1, 'b':2}\n",
    "list(a)"
   ],
   "outputs": [
    {
     "output_type": "execute_result",
     "data": {
      "text/plain": [
       "['a', 'b']"
      ]
     },
     "metadata": {},
     "execution_count": 3
    }
   ],
   "metadata": {}
  },
  {
   "cell_type": "code",
   "execution_count": 31,
   "source": [
    "2400 * 2800"
   ],
   "outputs": [
    {
     "output_type": "execute_result",
     "data": {
      "text/plain": [
       "6720000"
      ]
     },
     "metadata": {},
     "execution_count": 31
    }
   ],
   "metadata": {}
  },
  {
   "cell_type": "code",
   "execution_count": 20,
   "source": [
    "import torch\n",
    "import torch.nn as nn\n",
    "model = nn.Sequential(nn.BatchNorm2d(5))\n",
    "for m in model.modules():\n",
    "    if isinstance(m, nn.BatchNorm2d):\n",
    "        nn.init.constant_(m.weight, 10) \n",
    "        nn.init.constant_(m.bias, 3)\n",
    "model.eval()\n",
    "i = torch.zeros(1, 5, 1, 1)\n",
    "c = m(i)\n",
    "c\n"
   ],
   "outputs": [
    {
     "output_type": "execute_result",
     "data": {
      "text/plain": [
       "tensor([[[[0.]],\n",
       "\n",
       "         [[0.]],\n",
       "\n",
       "         [[0.]],\n",
       "\n",
       "         [[0.]],\n",
       "\n",
       "         [[0.]]]], grad_fn=<NativeBatchNormBackward>)"
      ]
     },
     "metadata": {},
     "execution_count": 20
    }
   ],
   "metadata": {}
  },
  {
   "cell_type": "code",
   "execution_count": 20,
   "source": [
    "import argparse\n",
    "parser = argparse.ArgumentParser()\n",
    "parser.add_argument('--foo', nargs='*', type=int, default=[0, 0])\n",
    "parser.add_argument('--bar', nargs='*')\n",
    "parser.add_argument('baz', nargs='*')\n",
    "parser.parse_args('1 2 --bar 1 2'.split())"
   ],
   "outputs": [
    {
     "output_type": "execute_result",
     "data": {
      "text/plain": [
       "Namespace(bar=['1', '2'], baz=['1', '2'], foo=[0, 0])"
      ]
     },
     "metadata": {},
     "execution_count": 20
    }
   ],
   "metadata": {}
  },
  {
   "cell_type": "code",
   "execution_count": 17,
   "source": [
    "import torch\n",
    "import torch.nn as nn\n",
    "i = torch.randn(1, 3, 10, 10)\n",
    "i.requires_grad = True\n",
    "a = nn.Sequential(nn.Conv2d(3, 5, 1), nn.BatchNorm2d(5), nn.ReLU(inplace=True), \\\n",
    "    nn.Sequential(nn.Conv2d(5, 10, 1), nn.BatchNorm2d(10)))\n",
    "c = a(i)\n",
    "(c.mean()).backward()\n",
    "for m in a.modules():\n",
    "    if isinstance(m, nn.BatchNorm2d):\n",
    "        print(m.weight.grad.data)\n",
    "        m.weight.grad.data.add_(0.01 * torch.sign(m.weight.data))\n",
    "        print(m.weight.grad.data)"
   ],
   "outputs": [
    {
     "output_type": "stream",
     "name": "stdout",
     "text": [
      "Sequential(\n",
      "  (0): Conv2d(5, 10, kernel_size=(1, 1), stride=(1, 1))\n",
      "  (1): BatchNorm2d(10, eps=1e-05, momentum=0.1, affine=True, track_running_stats=True)\n",
      ")\n",
      "tensor([ 1.9793e-10,  3.3640e-09,  3.0400e-09, -3.0344e-09,  2.3600e-09])\n",
      "tensor([0.0100, 0.0100, 0.0100, 0.0100, 0.0100])\n",
      "tensor([-3.1324e-09, -1.5618e-09, -6.8735e-10,  4.1441e-09,  4.8793e-09,\n",
      "        -1.6065e-09, -4.3488e-10, -4.8231e-09, -6.0053e-10, -2.1045e-09])\n",
      "tensor([0.0100, 0.0100, 0.0100, 0.0100, 0.0100, 0.0100, 0.0100, 0.0100, 0.0100,\n",
      "        0.0100])\n"
     ]
    }
   ],
   "metadata": {}
  }
 ]
}